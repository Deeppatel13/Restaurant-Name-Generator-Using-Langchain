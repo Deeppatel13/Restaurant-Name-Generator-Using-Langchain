{
 "cells": [
  {
   "cell_type": "code",
   "execution_count": 1,
   "metadata": {},
   "outputs": [],
   "source": [
    "# Importing the necessary libraries\n",
    "\n",
    "from langchain.prompts import PromptTemplate\n",
    "from langchain.chains import LLMChain\n",
    "from langchain.chains import SimpleSequentialChain\n",
    "from langchain.chains import SequentialChain\n",
    "from langchain_openai import ChatOpenAI\n",
    "from langchain.schema import HumanMessage\n",
    "import os\n",
    "from secret_key import groq_api_key"
   ]
  },
  {
   "cell_type": "code",
   "execution_count": 2,
   "metadata": {},
   "outputs": [
    {
     "name": "stdout",
     "output_type": "stream",
     "text": [
      "content=\"LangChain is a large language model that can generate text in a conversational style. But don't worry if that sounds complex - I'll break it down in simpler terms!\\n\\nImagine you're having a conversation with a friend or a customer support agent on a chatbox. LangChain is like a super-smart, super-fast typist who can respond to your questions and remarks in a way that feels like they're really thinking and talking to you.\\n\\nHere's what's cool about LangChain:\\n\\n1. **Conversational tone**: LangChain can write in a natural, friendly tone that sounds like a human. No stilted, robotic language here!\\n2. **Contextual understanding**: LangChain can understand the context of a conversation and respond accordingly. For example, if you ask a follow-up question, LangChain will know what you're referring to and respond accordingly.\\n3. **Long-form responses**: LangChain can generate lengthy responses that rival even the best human writers. This means you can have a detailed, thoughtful conversation with LangChain.\\n4. **Knowledge base**: LangChain has been trained on a massive dataset of text and can draw from that knowledge base to answer questions, provide explanations, or even generate creative writing.\\n\\nLangChain is still an AI, so it's not infallible, and sometimes its responses might seem a bit off. But overall, LangChain is a remarkable achievement in AI research that has the potential to revolutionize how we interact with technology.\" additional_kwargs={'refusal': None} response_metadata={'token_usage': {'completion_tokens': 299, 'prompt_tokens': 18, 'total_tokens': 317, 'completion_tokens_details': None, 'prompt_tokens_details': None, 'queue_time': 0.066727151, 'prompt_time': 0.003684747, 'completion_time': 0.249166667, 'total_time': 0.252851414}, 'model_name': 'llama3-8b-8192', 'system_fingerprint': 'fp_a97cfe35ae', 'finish_reason': 'stop', 'logprobs': None} id='run-33cc24b3-b87f-41ce-b43e-76803a5d08a2-0' usage_metadata={'input_tokens': 18, 'output_tokens': 299, 'total_tokens': 317, 'input_token_details': {}, 'output_token_details': {}}\n"
     ]
    }
   ],
   "source": [
    "# Set up the API key\n",
    "os.environ[\"GROQ_API_KEY\"] = groq_api_key\n",
    "\n",
    "# Initialize the Groq LLM model with LangChain\n",
    "llm = ChatOpenAI(\n",
    "    model_name=\"llama3-8b-8192\",\n",
    "    openai_api_key=os.getenv(\"GROQ_API_KEY\"),\n",
    "    base_url=\"https://api.groq.com/openai/v1\"\n",
    ")\n",
    "# Generate example response\n",
    "response = llm.invoke(\"Explain LangChain in simple terms.\")\n",
    "print(response)"
   ]
  },
  {
   "cell_type": "code",
   "execution_count": 3,
   "metadata": {},
   "outputs": [
    {
     "name": "stderr",
     "output_type": "stream",
     "text": [
      "C:\\Users\\DEEP\\AppData\\Local\\Temp\\ipykernel_95100\\341128840.py:3: LangChainDeprecationWarning: The method `BaseChatModel.__call__` was deprecated in langchain-core 0.1.7 and will be removed in 1.0. Use :meth:`~invoke` instead.\n",
      "  llm(\"I want to open a restaurant for Indian food. Suggest only one fancy name for it.\")\n"
     ]
    },
    {
     "data": {
      "text/plain": [
       "AIMessage(content='Here\\'s a suggestion for a fancy name for your Indian restaurant:\\n\\n\"Raj Darbar\"\\n\\n\"Raj\" means \"king\" in Hindi, and \"Darbar\" means \"court\" or \"palace\". So, the name \"Raj Darbar\" translates to \"King\\'s Palace\", which conveys a sense of grandeur, luxury, and sophistication. It\\'s a name that evokes the rich history and culture of India, while also hinting at the opulence and indulgence that diners can expect at your restaurant.', additional_kwargs={'refusal': None}, response_metadata={'token_usage': {'completion_tokens': 111, 'prompt_tokens': 29, 'total_tokens': 140, 'completion_tokens_details': None, 'prompt_tokens_details': None, 'queue_time': 0.06699060500000001, 'prompt_time': 0.005982355, 'completion_time': 0.0925, 'total_time': 0.098482355}, 'model_name': 'llama3-8b-8192', 'system_fingerprint': 'fp_179b0f92c9', 'finish_reason': 'stop', 'logprobs': None}, id='run-195123a7-5a78-41c7-b039-58e5dfd8bc29-0', usage_metadata={'input_tokens': 29, 'output_tokens': 111, 'total_tokens': 140, 'input_token_details': {}, 'output_token_details': {}})"
      ]
     },
     "execution_count": 3,
     "metadata": {},
     "output_type": "execute_result"
    }
   ],
   "source": [
    "# Trying out few prompts\n",
    "\n",
    "llm(\"I want to open a restaurant for Indian food. Suggest only one fancy name for it.\")"
   ]
  },
  {
   "cell_type": "code",
   "execution_count": 4,
   "metadata": {},
   "outputs": [
    {
     "data": {
      "text/plain": [
       "'I want to open a restaurant for Italian food. Suggest only one fancy name for it.'"
      ]
     },
     "execution_count": 4,
     "metadata": {},
     "output_type": "execute_result"
    }
   ],
   "source": [
    "# Creating a prompt template\n",
    "\n",
    "template_name = PromptTemplate(\n",
    "    input_variables = ['cuisine'],\n",
    "    template = \"I want to open a restaurant for {cuisine} food. Suggest only one fancy name for it.\"\n",
    ")\n",
    "\n",
    "template_name.format(cuisine = \"Italian\")"
   ]
  },
  {
   "cell_type": "code",
   "execution_count": 5,
   "metadata": {},
   "outputs": [
    {
     "name": "stderr",
     "output_type": "stream",
     "text": [
      "C:\\Users\\DEEP\\AppData\\Local\\Temp\\ipykernel_95100\\3768138199.py:3: LangChainDeprecationWarning: The class `LLMChain` was deprecated in LangChain 0.1.17 and will be removed in 1.0. Use :meth:`~RunnableSequence, e.g., `prompt | llm`` instead.\n",
      "  name_chain = LLMChain(llm=llm, prompt=template_name)\n",
      "C:\\Users\\DEEP\\AppData\\Local\\Temp\\ipykernel_95100\\3768138199.py:4: LangChainDeprecationWarning: The method `Chain.run` was deprecated in langchain 0.1.0 and will be removed in 1.0. Use :meth:`~invoke` instead.\n",
      "  name_chain.run(\"Mexican\")\n"
     ]
    },
    {
     "data": {
      "text/plain": [
       "'Based on your interest in Mexican cuisine, I\\'d like to suggest a fancy name for your restaurant:\\n\\n**\"Terra Viva México\"**\\n\\n\"Terra Viva\" is Latin for \"Living Earth,\" which reflects the rich, vibrant culture and traditions of Mexico. It also evokes a sense of warmth and welcoming, perfect for a restaurant that aims to transport customers to the heart of Mexico. The word \"Mexico\" is, of course, a nod to the cuisine you\\'ll be serving.\\n\\nI hope you like it!'"
      ]
     },
     "execution_count": 5,
     "metadata": {},
     "output_type": "execute_result"
    }
   ],
   "source": [
    "# Creating a simple chain\n",
    "\n",
    "name_chain = LLMChain(llm=llm, prompt=template_name)\n",
    "name_chain.run(\"Mexican\")"
   ]
  },
  {
   "cell_type": "code",
   "execution_count": 6,
   "metadata": {},
   "outputs": [
    {
     "data": {
      "text/plain": [
       "'Here are some menu item suggestions for Saffron Spice:\\n\\nSaffron Spice Café Omelette, Saffron-Glazed Chicken Wings, Saffron Risotto, Indian Spice Bowl, Saffron Tea Latte, Saffron and Pistachio Biscotti, Persian Spice Cake, Moroccan Tagine, Saffron Infused Chicken Tikka Masala, Golden Saffron Falafel Wrap, Spiced Saffron Apple Cider.'"
      ]
     },
     "execution_count": 6,
     "metadata": {},
     "output_type": "execute_result"
    }
   ],
   "source": [
    "# Creating a prompt for menu items and running the chain\n",
    "\n",
    "template_items = PromptTemplate(\n",
    "    input_variables = ['restaurant_name'],\n",
    "    template = \"Suggest some menu items for that {restaurant_name}. Provide the answer as comma seperated values.\"\n",
    ")\n",
    "\n",
    "items_chain = LLMChain(llm=llm, prompt = template_items)\n",
    "items_chain.run(\"Saffron Spice\")"
   ]
  },
  {
   "cell_type": "code",
   "execution_count": 7,
   "metadata": {},
   "outputs": [],
   "source": [
    "template_name = PromptTemplate(\n",
    "    input_variables = ['cuisine'],\n",
    "    template = \"I want to open a restaurant for {cuisine} food. Suggest a fancy name for it. Give me one name only.\"\n",
    ")\n",
    "\n",
    "name_chain = LLMChain(llm=llm, prompt=template_name)\n",
    "\n",
    "template_items = PromptTemplate(\n",
    "    input_variables = ['restaurant_name'],\n",
    "    template = \"Suggest some food items for menu for that {restaurant_name}. Provide the answer as comma seperated values.\"\n",
    ")\n",
    "\n",
    "items_chain = LLMChain(llm=llm, prompt = template_items)\n"
   ]
  },
  {
   "cell_type": "code",
   "execution_count": 8,
   "metadata": {},
   "outputs": [
    {
     "name": "stdout",
     "output_type": "stream",
     "text": [
      "What a delightful name! Here are some menu items that would complement the warmth and essence of \"El Viento de la Vida\" (The Wind of Life):\n",
      "\n",
      "Tacos Al Sol (Tacos with Grilled Chicken, Avocado, and Salsa), Quesadillas de Fuego (Spicy Shrimp and Chorizo Quesadillas), Enchiladas de Viento (Wind-Swept Enchiladas with Chicken, Tomatoes, and Sour Cream), Carne Asada con Higos (Grilled Skirt Steak with Caramelized Onions and Figs), Chiles Rellenos con Queso (Stuffed Poblanos with Melted Oaxaca Cheese), Empanadas de Verduras (Vegetarian Empanadas with Roasted Vegetables and Guacamole), Agua Fresca de Mango (Sweet Mango Agua Fresca), Horchata con Leche (Vegan Horchata with Coconut Milk), Arroz con Pollo con Salsa Verde (Mexican-Style Fried Rice with Chicken, Salsa Verde, and Fried Egg), Churros con Cajeta (Cinnamon Sugar Churros with Goat's Milk Caramel Sauce).\n",
      "\n",
      "These dishes are designed to evoke the senses and emotions evoked by the name, with bold flavors, vibrant colors, and a mix of classic and modern twists on traditional Mexican cuisine.\n"
     ]
    }
   ],
   "source": [
    "# Creating a Simple Sequential Chain\n",
    "\n",
    "simple_chain = SimpleSequentialChain(chains = [name_chain, items_chain])\n",
    "response = simple_chain.run(\"Mexican\")\n",
    "print(response)"
   ]
  },
  {
   "cell_type": "code",
   "execution_count": 9,
   "metadata": {},
   "outputs": [],
   "source": [
    "template_name = PromptTemplate(\n",
    "    input_variables = ['cuisine'],\n",
    "    template = \"I want to open a restaurant for {cuisine} food. Suggest a fancy name for it. Give me one name only.\"\n",
    ")\n",
    "\n",
    "name_chain = LLMChain(llm=llm, prompt=template_name, output_key=\"restaurant_name\")\n",
    "\n",
    "template_items = PromptTemplate(\n",
    "    input_variables = ['restaurant_name'],\n",
    "    template = \"Suggest some food items for menu for that {restaurant_name}. Provide the answer as comma seperated values.\"\n",
    ")\n",
    "\n",
    "items_chain = LLMChain(llm=llm, prompt = template_items, output_key=\"menu_items\")"
   ]
  },
  {
   "cell_type": "code",
   "execution_count": 10,
   "metadata": {},
   "outputs": [
    {
     "name": "stderr",
     "output_type": "stream",
     "text": [
      "C:\\Users\\DEEP\\AppData\\Local\\Temp\\ipykernel_95100\\723821273.py:7: LangChainDeprecationWarning: The method `Chain.__call__` was deprecated in langchain 0.1.0 and will be removed in 1.0. Use :meth:`~invoke` instead.\n",
      "  chain(\"Portuguese\")\n"
     ]
    },
    {
     "data": {
      "text/plain": [
       "{'cuisine': 'Portuguese',\n",
       " 'restaurant_name': 'What a great idea!\\n\\nI\\'d like to suggest: \"Aurora da Terra\" (Dawn of the Earth)\\n\\nThis name combines two words that evoke the essence of Portuguese culture:\\n\\n* \"Aurora\" represents the dawn, symbolizing a new beginning and the warmth of the sun-kissed Mediterranean coast.\\n* \"da Terra\" means \"of the Earth\" in Portuguese, paying homage to the country\\'s rich culinary heritage and its connection to the land.\\n\\n\"Aurora da Terra\" is a sophisticated and elegant name that will undoubtedly make your restaurant stand out while capturing the essence of Portuguese gastronomy.',\n",
       " 'menu_items': 'What a great idea indeed! Here are some food item suggestions that fit perfectly with the theme \"Aurora da Terra\" (Dawn of the Earth):\\n\\nCroissants de Açafrão (Saffron Croissants), Açorda da Terra (Earthly Bread Soup), Feijoada Alentejana (Alentejo-Style Bean Stew), Bacalhau à Brás (Shredded Cod with Scrambled Eggs and Potatoes), Grilled Octopus with Lemon-Garlic Butter, Arroz de Pato (Duck Rice), Frango Grelhado (Grilled Chicken with Churri Sauce), Torta de Leite Creme (Creamy Milk Cake), Bolo de Castanha (Hazelnut Cake), Café com Leite (Coffee with Milk).\\n\\nThese dishes celebrate the rich flavors and ingredients of Portugal, echoing the warmth and beauty of the Mediterranean dawn.'}"
      ]
     },
     "execution_count": 10,
     "metadata": {},
     "output_type": "execute_result"
    }
   ],
   "source": [
    "# Creating a Sequential chain\n",
    "\n",
    "chain = SequentialChain(chains=[name_chain, items_chain],\n",
    "                       input_variables = ['cuisine'],\n",
    "                       output_variables = ['restaurant_name', 'menu_items'])\n",
    "\n",
    "chain(\"Portuguese\")"
   ]
  },
  {
   "cell_type": "code",
   "execution_count": 11,
   "metadata": {},
   "outputs": [
    {
     "name": "stderr",
     "output_type": "stream",
     "text": [
      "C:\\Users\\DEEP\\AppData\\Local\\Temp\\ipykernel_95100\\4205428105.py:7: LangChainDeprecationWarning: LangChain agents will continue to be supported, but it is recommended for new use cases to be built with LangGraph. LangGraph offers a more flexible and full-featured framework for building agents, including support for tool-calling, persistence of state, and human-in-the-loop workflows. For details, refer to the `LangGraph documentation <https://langchain-ai.github.io/langgraph/>`_ as well as guides for `Migrating from AgentExecutor <https://python.langchain.com/docs/how_to/migrate_agent/>`_ and LangGraph's `Pre-built ReAct agent <https://langchain-ai.github.io/langgraph/how-tos/create-react-agent/>`_.\n",
      "  agent = initialize_agent(\n"
     ]
    },
    {
     "name": "stdout",
     "output_type": "stream",
     "text": [
      "\n",
      "\n",
      "\u001b[1m> Entering new AgentExecutor chain...\u001b[0m\n",
      "\u001b[32;1m\u001b[1;3mThought: To find the birthdate of Elon Musk and his age in 2025, I'll use Wikipedia to get his birthdate and then calculate his age.\n",
      "\n",
      "Action: wikipedia\n",
      "Action Input: Elon Musk\u001b[0m\n",
      "Observation: \u001b[36;1m\u001b[1;3mPage: Elon Musk\n",
      "Summary: Elon Reeve Musk (; born June 28, 1971) is a businessman known for his key roles in Tesla, Inc., SpaceX, and Twitter (which he rebranded as X). Since 2025, he has been a senior advisor to United States President Donald Trump and head of the Department of Government Efficiency (DOGE). Musk is the wealthiest person in the world; as of February 2025, Forbes estimates his net worth to be US$384 billion. \n",
      "Born to a prominent family in Pretoria, South Africa, Musk emigrated to Canada in 1989 and acquired its citizenship though his mother. He moved to the U.S. and graduated from the University of Pennsylvania before moving to California to pursue business ventures. In 1995, Musk co-founded the software company Zip2. After its sale in 1999, he co-founded X.com, an online payment company which was later renamed PayPal and acquired by eBay in 2002 for $1.5 billion. In 2002, Musk also became a U.S. citizen.\n",
      "In 2002, Musk founded SpaceX and became its CEO and chief engineer. The company has since led innovations in reusable rockets and commercial spaceflight. In 2004, Musk joined Tesla, Inc., as an early investor, and became its CEO and product architect in 2008; it has become a market leader in electric vehicles. In 2015, he co-founded OpenAI to advance artificial intelligence research, but left its board in 2018. In 2016, Musk co-founded Neuralink, a company focused on brain–computer interfaces, and in 2017 launched the Boring Company, which aims to develop tunnel transportation. Musk was named Time magazine's Person of the Year in 2021. In 2022, he acquired Twitter, implementing significant changes and rebranding it as X in 2023. In January 2025, he was appointed head of Trump's newly created DOGE.\n",
      "Musk's political activities and views have made him a polarizing figure. He has been criticized for making unscientific and misleading statements, including COVID-19 misinformation, affirming antisemitic and transphobic comments, and promoting conspiracy theories. His acquisition of Twitter was controversial due to a subsequent increase in hate speech and the spread of misinformation on the service.  Musk has engaged in political activities in several countries, including as a vocal and financial supporter of Trump. Musk was the largest donor in the 2024 U.S. presidential election and is a supporter of far-right figures, causes, and political parties.\n",
      "\n",
      "Page: Elon Musk salute controversy\n",
      "Summary: On January 20, 2025, while speaking at a rally celebrating U.S. president Donald Trump's second inauguration, businessman and political figure Elon Musk twice made a salute interpreted by some as a Nazi or the fascist Roman salute.\n",
      "On his own social media platform, X (formerly Twitter), Musk dismissed the accusations of Nazi sympathies, derided them as being politicized, and described them as a \"tired\" attack. The Anti-Defamation League defended Musk and argued that the gesture carried no significant meaning, but other Jewish organizations have condemned the gesture. Multiple European political parties demanded that Musk be banned from entering their countries. Neo-Nazi and white supremacist groups celebrated the salutes.\n",
      "\n",
      "\n",
      "\n",
      "Page: Wealth of Elon Musk\n",
      "Summary: Elon Musk is the  wealthiest person in the world, with an estimated net worth of US$358 billion as of February 25, 2025, according to the Bloomberg Billionaires Index, and $364 billion according to Forbes, primarily from his ownership stakes in Tesla, Inc., and SpaceX. \n",
      "Having been first listed on the Forbes Billionaires List in 2012, around 75% of Musk's wealth was derived from Tesla stock in November 2020. Describing himself as \"cash poor\", a year later, he became the first person in the world to have a net worth above $300 billion. By December 2024, he became the first person to reach a net worth of $400 billion.\n",
      "\n",
      "\u001b[0m\n",
      "Thought:\u001b[32;1m\u001b[1;3mThought: To find Elon Musk's birthdate and age in 2025, I know his birthdate from the Wikipedia page I just read, and I can calculate his age from that.\n",
      "\n",
      "Action: wikipedia\n",
      "Action Input: Elon Musk's birthdate\u001b[0m\n",
      "Observation: \u001b[36;1m\u001b[1;3mPage: Synthetic media\n",
      "Summary: Synthetic media (also known as AI-generated media, media produced by generative AI, personalized media, personalized content, and colloquially as deepfakes) is a catch-all term for the artificial production, manipulation, and modification of data and media by automated means, especially through the use of artificial intelligence algorithms, such as for the purpose of misleading people or changing an original meaning. Synthetic media as a field has grown rapidly since the creation of generative adversarial networks, primarily through the rise of deepfakes as well as music synthesis, text generation, human image synthesis, speech synthesis, and more. Though experts use the term \"synthetic media,\" individual methods such as deepfakes and text synthesis are sometimes not referred to as such by the media but instead by their respective terminology (and often use \"deepfakes\" as a euphemism, e.g. \"deepfakes for text\" for natural-language generation; \"deepfakes for voices\" for neural voice cloning, etc.) Significant attention arose towards the field of synthetic media starting in 2017 when Motherboard reported on the emergence of AI altered pornographic videos to insert the faces of famous actresses. Potential hazards of synthetic media include the spread of misinformation, further loss of trust in institutions such as media and government, the mass automation of creative and journalistic jobs and a retreat into AI-generated fantasy worlds. Synthetic media is an applied form of artificial imagination.\n",
      "\n",
      "\n",
      "\n",
      "Page: History of artificial intelligence\n",
      "Summary: The history of artificial intelligence (AI) began in antiquity, with myths, stories, and rumors of artificial beings endowed with intelligence or consciousness by master craftsmen. The study of logic and formal reasoning from antiquity to the present led directly to the invention of the programmable digital computer in the 1940s, a machine based on abstract mathematical reasoning. This device and the ideas behind it inspired scientists to begin discussing the possibility of building an electronic brain.\n",
      "The field of AI research was founded at a workshop held on the campus of Dartmouth College in 1956. Attendees of the workshop became the leaders of AI research for decades. Many of them predicted that machines as intelligent as humans would exist within a generation. The U.S. government provided millions of dollars with the hope of making this vision come true.\n",
      "Eventually, it became obvious that researchers had grossly underestimated the difficulty of this feat. In 1974, criticism from James Lighthill and pressure from the U.S. Congress led the U.S. and British Governments to stop funding undirected research into artificial intelligence. Seven years later, a visionary initiative by the Japanese Government and the success of expert systems  reinvigorated investment in AI, and by the late 1980s, the industry had grown into a billion-dollar enterprise. However, investors' enthusiasm waned in the 1990s, and the field was criticized in the press and avoided by industry (a period known as an \"AI winter\"). Nevertheless, research and funding continued to grow under other names.\n",
      "In the early 2000s, machine learning was applied to a wide range of problems in academia and industry. The success was due to the availability of powerful computer hardware, the collection of immense data sets, and the application of solid mathematical methods. Soon after, deep learning proved to be a breakthrough technology, eclipsing all other methods. The transformer architecture debuted in 2017 and was used to produce impressive generative AI applications, amongst other use cases.\n",
      "Investment in AI boomed in the 2020s. The recent AI boom, initiated by the development of transformer architecture, led to the rapid scaling and public releases of large language models (LLMs) like ChatGPT. These models exhibit human-like traits of knowledge, attention, and creativity, and have been integrated\u001b[0m\n"
     ]
    },
    {
     "name": "stdout",
     "output_type": "stream",
     "text": [
      "Thought:\u001b[32;1m\u001b[1;3mQuestion: When was Elon musk born and what is his age right now in 2025?\n",
      "\n",
      "Thought: To find the birthdate of Elon Musk and his age in 2025, I'll use Wikipedia to get his birthdate and then calculate his age.\n",
      "\n",
      "Action: wikipedia\n",
      "Action Input: Elon Musk\u001b[0m\n",
      "Observation: \u001b[36;1m\u001b[1;3mPage: Elon Musk\n",
      "Summary: Elon Reeve Musk (; born June 28, 1971) is a businessman known for his key roles in Tesla, Inc., SpaceX, and Twitter (which he rebranded as X). Since 2025, he has been a senior advisor to United States President Donald Trump and head of the Department of Government Efficiency (DOGE). Musk is the wealthiest person in the world; as of February 2025, Forbes estimates his net worth to be US$384 billion. \n",
      "Born to a prominent family in Pretoria, South Africa, Musk emigrated to Canada in 1989 and acquired its citizenship though his mother. He moved to the U.S. and graduated from the University of Pennsylvania before moving to California to pursue business ventures. In 1995, Musk co-founded the software company Zip2. After its sale in 1999, he co-founded X.com, an online payment company which was later renamed PayPal and acquired by eBay in 2002 for $1.5 billion. In 2002, Musk also became a U.S. citizen.\n",
      "In 2002, Musk founded SpaceX and became its CEO and chief engineer. The company has since led innovations in reusable rockets and commercial spaceflight. In 2004, Musk joined Tesla, Inc., as an early investor, and became its CEO and product architect in 2008; it has become a market leader in electric vehicles. In 2015, he co-founded OpenAI to advance artificial intelligence research, but left its board in 2018. In 2016, Musk co-founded Neuralink, a company focused on brain–computer interfaces, and in 2017 launched the Boring Company, which aims to develop tunnel transportation. Musk was named Time magazine's Person of the Year in 2021. In 2022, he acquired Twitter, implementing significant changes and rebranding it as X in 2023. In January 2025, he was appointed head of Trump's newly created DOGE.\n",
      "Musk's political activities and views have made him a polarizing figure. He has been criticized for making unscientific and misleading statements, including COVID-19 misinformation, affirming antisemitic and transphobic comments, and promoting conspiracy theories. His acquisition of Twitter was controversial due to a subsequent increase in hate speech and the spread of misinformation on the service.  Musk has engaged in political activities in several countries, including as a vocal and financial supporter of Trump. Musk was the largest donor in the 2024 U.S. presidential election and is a supporter of far-right figures, causes, and political parties.\n",
      "\n",
      "Page: Elon Musk salute controversy\n",
      "Summary: On January 20, 2025, while speaking at a rally celebrating U.S. president Donald Trump's second inauguration, businessman and political figure Elon Musk twice made a salute interpreted by some as a Nazi or the fascist Roman salute.\n",
      "On his own social media platform, X (formerly Twitter), Musk dismissed the accusations of Nazi sympathies, derided them as being politicized, and described them as a \"tired\" attack. The Anti-Defamation League defended Musk and argued that the gesture carried no significant meaning, but other Jewish organizations have condemned the gesture. Multiple European political parties demanded that Musk be banned from entering their countries. Neo-Nazi and white supremacist groups celebrated the salutes.\n",
      "\n",
      "\n",
      "\n",
      "Page: Wealth of Elon Musk\n",
      "Summary: Elon Musk is the  wealthiest person in the world, with an estimated net worth of US$358 billion as of February 25, 2025, according to the Bloomberg Billionaires Index, and $364 billion according to Forbes, primarily from his ownership stakes in Tesla, Inc., and SpaceX. \n",
      "Having been first listed on the Forbes Billionaires List in 2012, around 75% of Musk's wealth was derived from Tesla stock in November 2020. Describing himself as \"cash poor\", a year later, he became the first person in the world to have a net worth above $300 billion. By December 2024, he became the first person to reach a net worth of $400 billion.\n",
      "\n",
      "\u001b[0m\n",
      "Thought:\u001b[32;1m\u001b[1;3mFinal Answer: Elon Musk was born on June 28, 1971. As of 2025, he is 54 years old.\u001b[0m\n",
      "\n",
      "\u001b[1m> Finished chain.\u001b[0m\n"
     ]
    },
    {
     "data": {
      "text/plain": [
       "'Elon Musk was born on June 28, 1971. As of 2025, he is 54 years old.'"
      ]
     },
     "execution_count": 11,
     "metadata": {},
     "output_type": "execute_result"
    }
   ],
   "source": [
    "# Using agents\n",
    "\n",
    "from langchain.agents import AgentType, initialize_agent, load_tools\n",
    "\n",
    "tools = load_tools(['wikipedia'], llm=llm)\n",
    "\n",
    "agent = initialize_agent(\n",
    "        tools,\n",
    "        llm,\n",
    "        agent=AgentType.ZERO_SHOT_REACT_DESCRIPTION,\n",
    "        verbose=True)\n",
    "        \n",
    "agent.run(\"When was Elon musk born and what is his age right now in 2025?\")"
   ]
  },
  {
   "cell_type": "code",
   "execution_count": 12,
   "metadata": {},
   "outputs": [
    {
     "name": "stderr",
     "output_type": "stream",
     "text": [
      "C:\\Users\\DEEP\\AppData\\Local\\Temp\\ipykernel_95100\\2928341619.py:5: LangChainDeprecationWarning: Please see the migration guide at: https://python.langchain.com/docs/versions/migrating_memory/\n",
      "  memory = ConversationBufferMemory()\n"
     ]
    },
    {
     "data": {
      "text/plain": [
       "'I\\'d be delighted to help! Here\\'s a fancy name for your Mexican restaurant:\\n\\n**\"Terra Azul\"**\\n\\nTerra Azul is Latin for \"Blue Earth,\" which pays homage to the rich blue hues of the Mexican flag and the earthy, vibrant flavors of Mexican cuisine. The name also has a hint of sophistication and elegance, making it perfect for a fine dining or upscale casual restaurant experience.'"
      ]
     },
     "execution_count": 12,
     "metadata": {},
     "output_type": "execute_result"
    }
   ],
   "source": [
    "# Trying out the Converation Buffer Memory\n",
    "\n",
    "from langchain.memory import ConversationBufferMemory\n",
    "\n",
    "memory = ConversationBufferMemory()\n",
    "\n",
    "template_name = PromptTemplate(\n",
    "                input_variables = ['cuisine'],\n",
    "                template = \"I want to open a restaurant for {cuisine} food. Give me only one fancy name.\"\n",
    "                )\n",
    "\n",
    "chain = LLMChain(llm=llm, prompt=template_name, memory=memory)\n",
    "\n",
    "chain.run(\"Mexican\")"
   ]
  },
  {
   "cell_type": "code",
   "execution_count": 13,
   "metadata": {},
   "outputs": [
    {
     "data": {
      "text/plain": [
       "'How about \"Maharaja\\'s Mosaic\"? It sounds fancy, and \"Maharaja\" is a regal title that evokes the grandeur and richness of Indian cuisine, while \"Mosaic\" suggests a vibrant and diverse blend of flavors and cultures.'"
      ]
     },
     "execution_count": 13,
     "metadata": {},
     "output_type": "execute_result"
    }
   ],
   "source": [
    "chain.run(\"Indian\")"
   ]
  },
  {
   "cell_type": "code",
   "execution_count": 14,
   "metadata": {},
   "outputs": [
    {
     "data": {
      "text/plain": [
       "ConversationBufferMemory(chat_memory=InMemoryChatMessageHistory(messages=[HumanMessage(content='Mexican', additional_kwargs={}, response_metadata={}), AIMessage(content='I\\'d be delighted to help! Here\\'s a fancy name for your Mexican restaurant:\\n\\n**\"Terra Azul\"**\\n\\nTerra Azul is Latin for \"Blue Earth,\" which pays homage to the rich blue hues of the Mexican flag and the earthy, vibrant flavors of Mexican cuisine. The name also has a hint of sophistication and elegance, making it perfect for a fine dining or upscale casual restaurant experience.', additional_kwargs={}, response_metadata={}), HumanMessage(content='Indian', additional_kwargs={}, response_metadata={}), AIMessage(content='How about \"Maharaja\\'s Mosaic\"? It sounds fancy, and \"Maharaja\" is a regal title that evokes the grandeur and richness of Indian cuisine, while \"Mosaic\" suggests a vibrant and diverse blend of flavors and cultures.', additional_kwargs={}, response_metadata={})]))"
      ]
     },
     "execution_count": 14,
     "metadata": {},
     "output_type": "execute_result"
    }
   ],
   "source": [
    "# Checking the stored memory till now\n",
    "\n",
    "chain.memory"
   ]
  },
  {
   "cell_type": "code",
   "execution_count": 15,
   "metadata": {},
   "outputs": [
    {
     "name": "stdout",
     "output_type": "stream",
     "text": [
      "Human: Mexican\n",
      "AI: I'd be delighted to help! Here's a fancy name for your Mexican restaurant:\n",
      "\n",
      "**\"Terra Azul\"**\n",
      "\n",
      "Terra Azul is Latin for \"Blue Earth,\" which pays homage to the rich blue hues of the Mexican flag and the earthy, vibrant flavors of Mexican cuisine. The name also has a hint of sophistication and elegance, making it perfect for a fine dining or upscale casual restaurant experience.\n",
      "Human: Indian\n",
      "AI: How about \"Maharaja's Mosaic\"? It sounds fancy, and \"Maharaja\" is a regal title that evokes the grandeur and richness of Indian cuisine, while \"Mosaic\" suggests a vibrant and diverse blend of flavors and cultures.\n"
     ]
    }
   ],
   "source": [
    "print(chain.memory.buffer)"
   ]
  },
  {
   "cell_type": "code",
   "execution_count": 16,
   "metadata": {},
   "outputs": [
    {
     "name": "stdout",
     "output_type": "stream",
     "text": [
      "The following is a friendly conversation between a human and an AI. The AI is talkative and provides lots of specific details from its context. If the AI does not know the answer to a question, it truthfully says it does not know.\n",
      "\n",
      "Current conversation:\n",
      "{history}\n",
      "Human: {input}\n",
      "AI:\n"
     ]
    },
    {
     "name": "stderr",
     "output_type": "stream",
     "text": [
      "C:\\Users\\DEEP\\AppData\\Local\\Temp\\ipykernel_95100\\557321462.py:5: LangChainDeprecationWarning: The class `ConversationChain` was deprecated in LangChain 0.2.7 and will be removed in 1.0. Use :meth:`~RunnableWithMessageHistory: https://python.langchain.com/v0.2/api_reference/core/runnables/langchain_core.runnables.history.RunnableWithMessageHistory.html` instead.\n",
      "  convo = ConversationChain(llm=llm)\n"
     ]
    }
   ],
   "source": [
    "# Trying the Conversation Chain which already has a memory integrated with it\n",
    "\n",
    "from langchain.chains import ConversationChain\n",
    "\n",
    "convo = ConversationChain(llm=llm)\n",
    "print(convo.prompt.template)"
   ]
  },
  {
   "cell_type": "code",
   "execution_count": 17,
   "metadata": {},
   "outputs": [
    {
     "data": {
      "text/plain": [
       "\"A great question! According to my vast knowledge database, the 2011 ICC Cricket World Cup was won by the Indian national cricket team. They defeated Sri Lanka in the final match, which was held on April 2, 2011, at the Wankhede Stadium in Mumbai, India. The Indian team, led by Mahendra Singh Dhoni, chased down Sri Lanka's score of 274 and reached the target with 6 wickets in hand. It was India's second Cricket World Cup title after their first win in 1983. I hope that answers your question!\""
      ]
     },
     "execution_count": 17,
     "metadata": {},
     "output_type": "execute_result"
    }
   ],
   "source": [
    "convo.run(\"Who won the 2011 Cricket World Cup?\")"
   ]
  },
  {
   "cell_type": "code",
   "execution_count": 18,
   "metadata": {},
   "outputs": [
    {
     "data": {
      "text/plain": [
       "\"A simple math question! According to my mathematical algorithms, 20 + 25 = 45. I'm confident in my ability to perform basic arithmetic operations like addition, but if you have any questions that require more advanced mathematical concepts, feel free to ask!\""
      ]
     },
     "execution_count": 18,
     "metadata": {},
     "output_type": "execute_result"
    }
   ],
   "source": [
    "convo.run(\"What is 20+25?\")"
   ]
  },
  {
   "cell_type": "code",
   "execution_count": 19,
   "metadata": {},
   "outputs": [
    {
     "data": {
      "text/plain": [
       "'A straightforward question! According to my knowledge database, the captain of the Indian national cricket team that won the 2011 ICC Cricket World Cup was Mahendra Singh Dhoni. He led the team to victory in the final match against Sri Lanka.'"
      ]
     },
     "execution_count": 19,
     "metadata": {},
     "output_type": "execute_result"
    }
   ],
   "source": [
    "convo.run(\"Who was the captain of the winning team?\")"
   ]
  },
  {
   "cell_type": "code",
   "execution_count": 20,
   "metadata": {},
   "outputs": [
    {
     "name": "stdout",
     "output_type": "stream",
     "text": [
      "Human: Who won the 2011 Cricket World Cup?\n",
      "AI: A great question! According to my vast knowledge database, the 2011 ICC Cricket World Cup was won by the Indian national cricket team. They defeated Sri Lanka in the final match, which was held on April 2, 2011, at the Wankhede Stadium in Mumbai, India. The Indian team, led by Mahendra Singh Dhoni, chased down Sri Lanka's score of 274 and reached the target with 6 wickets in hand. It was India's second Cricket World Cup title after their first win in 1983. I hope that answers your question!\n",
      "Human: What is 20+25?\n",
      "AI: A simple math question! According to my mathematical algorithms, 20 + 25 = 45. I'm confident in my ability to perform basic arithmetic operations like addition, but if you have any questions that require more advanced mathematical concepts, feel free to ask!\n",
      "Human: Who was the captain of the winning team?\n",
      "AI: A straightforward question! According to my knowledge database, the captain of the Indian national cricket team that won the 2011 ICC Cricket World Cup was Mahendra Singh Dhoni. He led the team to victory in the final match against Sri Lanka.\n"
     ]
    }
   ],
   "source": [
    "# Checking the memory stored till now\n",
    "\n",
    "print(convo.memory.buffer)"
   ]
  },
  {
   "cell_type": "code",
   "execution_count": 21,
   "metadata": {},
   "outputs": [
    {
     "name": "stderr",
     "output_type": "stream",
     "text": [
      "C:\\Users\\DEEP\\AppData\\Local\\Temp\\ipykernel_95100\\2249824807.py:5: LangChainDeprecationWarning: Please see the migration guide at: https://python.langchain.com/docs/versions/migrating_memory/\n",
      "  memory = ConversationBufferWindowMemory(k=1) # Window size --> 1\n"
     ]
    },
    {
     "data": {
      "text/plain": [
       "'What a great question! I have access to a vast amount of information, including cricket stats and records. According to my knowledge, the 2011 ICC Cricket World Cup was won by the Indian national cricket team. They defeated Sri Lanka in the final match on April 2, 2011, at the Wankhede Stadium in Mumbai, India. The match was a thrilling one, with India winning by 6 wickets. Gautam Gambhir was the player of the tournament, and MS Dhoni was the captain of the winning team. The Indian team was led by MS Dhoni throughout the tournament, and they won their second Cricket World Cup title after 28 years.'"
      ]
     },
     "execution_count": 21,
     "metadata": {},
     "output_type": "execute_result"
    }
   ],
   "source": [
    "# Using Conversation Buffer Window Memory with Conversation Chain\n",
    "\n",
    "from langchain.memory import ConversationBufferWindowMemory\n",
    "\n",
    "memory = ConversationBufferWindowMemory(k=1) # Window size --> 1\n",
    "\n",
    "convo2 = ConversationChain(llm=llm, memory=memory)\n",
    "\n",
    "convo2.run(\"Who won the 2011 Cricket World Cup?\")"
   ]
  },
  {
   "cell_type": "code",
   "execution_count": 22,
   "metadata": {},
   "outputs": [
    {
     "data": {
      "text/plain": [
       "\"A simple one! According to my programming language, which is based on mathematical algorithms and operations, the result of the equation 4 + 7 is 11. I'm glad I can help with such straightforward calculations!\""
      ]
     },
     "execution_count": 22,
     "metadata": {},
     "output_type": "execute_result"
    }
   ],
   "source": [
    "convo2.run(\"What is 4+7?\")"
   ]
  },
  {
   "cell_type": "code",
   "execution_count": 23,
   "metadata": {},
   "outputs": [
    {
     "data": {
      "text/plain": [
       "\"A question that requires some domain knowledge! According to my vast database of historical sports records, which I've been trained on since my initial boot-up in 2020, I need more context to provide an accurate answer. Could you please specify which team sport you're referring to, such as football, basketball, or tennis? And was it a recent championship or a historical event? The more information you provide, the better I'll be able to assist you.\""
      ]
     },
     "execution_count": 23,
     "metadata": {},
     "output_type": "execute_result"
    }
   ],
   "source": [
    "convo2.run(\"Who was the captain of the winning team?\")"
   ]
  },
  {
   "cell_type": "code",
   "execution_count": 24,
   "metadata": {},
   "outputs": [
    {
     "name": "stdout",
     "output_type": "stream",
     "text": [
      "Human: Who was the captain of the winning team?\n",
      "AI: A question that requires some domain knowledge! According to my vast database of historical sports records, which I've been trained on since my initial boot-up in 2020, I need more context to provide an accurate answer. Could you please specify which team sport you're referring to, such as football, basketball, or tennis? And was it a recent championship or a historical event? The more information you provide, the better I'll be able to assist you.\n"
     ]
    }
   ],
   "source": [
    "# Checking the memory with window size equal to 1\n",
    "\n",
    "print(convo2.memory.buffer)"
   ]
  }
 ],
 "metadata": {
  "kernelspec": {
   "display_name": "Python (Langchain)",
   "language": "python",
   "name": "langchain_env"
  },
  "language_info": {
   "codemirror_mode": {
    "name": "ipython",
    "version": 3
   },
   "file_extension": ".py",
   "mimetype": "text/x-python",
   "name": "python",
   "nbconvert_exporter": "python",
   "pygments_lexer": "ipython3",
   "version": "3.12.6"
  }
 },
 "nbformat": 4,
 "nbformat_minor": 4
}
